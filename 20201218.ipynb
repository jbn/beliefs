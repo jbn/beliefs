{
 "cells": [
  {
   "cell_type": "markdown",
   "metadata": {},
   "source": [
    "# Correctly Assigning Blame\n",
    "## Social Media's Cybernetic Problems (Part 2)"
   ]
  },
  {
   "cell_type": "markdown",
   "metadata": {},
   "source": [
    "> What constitutes an explanation of an observed social phenomenon? Perhaps one day people will interpret the question, \"can you explain it?\" as asking \"Can you grow it?\" \n",
    ">\n",
    "> [Growing Artificial Societies](https://amzn.to/2LPkdu6), Epstein and Axtell (1996, p. 20)"
   ]
  },
  {
   "cell_type": "markdown",
   "metadata": {},
   "source": [
    "Social media opens the space of human expression and possibilities. It also induces both real and imaged harms. People have written and Ted-Talked about them endlessly in recent years. Generally, the focus is on pathology-inducing implementations borne of the central actors’ business model considerations. And for good reason: money is a pretty critical puzzle piece. However, I think there is a danger in this chronic top-down evaluation. \n",
    "\n",
    "Stuck in top-down mode, we fail to ask the important questions. In particular: *what are the sufficient conditions for social media harms to emerge*? If bottom-up processes of agents operating over graphically-structured communication channels replicate the asserted top-down harms, our focus misses the mark. Moreover, if the goal is to create new distributed and decentralized mediums which resist both censorship and rent-seeking capture — which is my personal intent — then understanding which harms emerge informs good design. This speculative post explores the top-down and bottom-up hypotheses by contrasting sketches."
   ]
  },
  {
   "cell_type": "markdown",
   "metadata": {},
   "source": [
    "## The A/B Exaggeration"
   ]
  },
  {
   "cell_type": "markdown",
   "metadata": {},
   "source": [
    "The demand for attention is now, has always been, and forever will be high. The business models of the most popular social mediums commoditize human attention. Ignoring differentiation (i.e. narrowly targeted attention resale), there is an obvious way to make more money: increase the supply. Partially, the sheer social gravity of a viable social offering does this for free — new users follow old ones. But, the second way is to increase the total time on site. The provider turns to making the site more \"addictive\" by means of increasing the user's perception of chronic (but still somewhat intermittent) rewards. Algorithmic A/B testing (and optimization generally) works this way. By presenting each user with content that they will be more likely to find engaging, they learn to expect more and more cheap rewards. Infinity-scrolls then turn this better-than-average-skewed content into a space-filling curve, covering your attention.\n",
    "\n",
    "I dispute none of this. That’s how the business works.\n",
    "\n",
    "However, what I would like to emphasize is that the incentives of the social media company and the content producers are so well-aligned that they're just about indistinguishable. If there are more users, the content producers are more likely to capture more attention. If the users spend more time on the social networking service, the content producers are more likely to capture more attention. That’s how platforms work.\n",
    "\n",
    "The thing is, in a probabilistic sense, the competition between producers has the same general effect as centralized algorithmic mediation. Their business model problem is the same. Twitter, Facebook, et al. solve it with teams of data scientists, mind-boggling large data sets of human behavior, and ever-expanding farms of computational power. Content producers solve it with creativity…and, also, mechanization. The higher up the leader-board you get, the more you’re instrumenting production, too. The New York Times uses click bait. It works because it’s salient and the reshaped content percolates across the social graph with ease (in this case, generally lubricated by social outrage). But, even if they ought not, they have to. Everyone does. It’s the same competition. Distribution dominates. \n",
    "\n",
    "It's comforting to think that the fuckery we observe is an artifact of algorithmic mediation. But social amplification and the competition for attention are sufficient. People select for the supernormal stimuli and content producers oblige. Attenuation is real challenge. And, within the confines of an armor-walled garden masquerading as a global pseudo-commons, attenuation is thorny. You can quibble about what does or does not constitute free speech violations all you want — it's centralized censorship regardless. "
   ]
  },
  {
   "cell_type": "markdown",
   "metadata": {},
   "source": [
    "## Consumption Alignment \n",
    "\n",
    "### Sync"
   ]
  },
  {
   "cell_type": "markdown",
   "metadata": {},
   "source": [
    "In his wonderful popular science book Sync, Steven Strogatz opens with the story of *Photinus carolinus*. This species of fireflies synchronize their flashes en masse. Seemingly, this solves a signaling problem for mate attraction. But it begs the question: how do these tiny insects coordinate in the first place? \n",
    "\n",
    "It turns out, a simple rule is sufficient. Each one delays or advances their timing towards that of their brightest observation. That is, they delay or advance their phase. At first glance, this sounds like a centralized routine. But the brightest observation varies for each insect. Consequently, there is no leader. \n",
    "\n",
    "Netflix law\n",
    "\n",
    "A related harm — one that I’ll discuss at length in an up-coming post on collision spaces — is that of synchronization. If feed algorithms select for content that is more salient and conflict is ever-salient, there is a tendency to draw ever larger crowds [cite] into particular ephemeral arenas. That is, they learn that this particular context seems relevant, then inject the same context into the attention of others over their low-latency optimized network. \"Trending\" algorithms do the same with a different UI. This is bad because there is social danger in promiscuous synchronization, especially when the context is either ambiguous noisy or low-information or all three. In that case, people use identity as a heuristic, and they learn on episodic mirages. \n",
    "\n",
    "Amplification comes by contagious synchronization.\n",
    "\n",
    "But, again, the graph alone can replicate most of these effects — it is not without its mediators. Super-nodes exist in small-world graphs, and social media makes the world very small. At the time of writing, Donald Trump has 85 million followers on twitter. Algorithmic mediation or not, he would still set the DiScOuRcE agenda. And agenda power on attention allocating medium is the power of sync. Ignoring that exceptional case, the ensemble of super-influencers looks a lot like algorithmic mediation where the network itself does the computation. \n",
    "\n",
    "Where does algorithmic mediation and the design of social networking services induce exceptional harm, in the sense that it's not a property of graphical communication? I think there are two critical points: acceleration and the relational limits.\n",
    "\n",
    "At this point, everyone is familiar with the uneasy sense that time doesn't work correctly anymore. We are socially over-clocking and as such, there is evidence of both damage and instability."
   ]
  },
  {
   "cell_type": "code",
   "execution_count": 1,
   "metadata": {},
   "outputs": [
    {
     "data": {
      "text/html": [
       "<blockquote class=\"twitter-tweet\"><p lang=\"en\" dir=\"ltr\">It&#39;s less of a &quot;news cycle&quot; these days and more of that BSG episode where the Cylons attack every 33 minutes.</p>&mdash; Matt Ford (@fordm) <a href=\"https://twitter.com/fordm/status/831690490726719489?ref_src=twsrc%5Etfw\">February 15, 2017</a></blockquote> <script async src=\"https://platform.twitter.com/widgets.js\" charset=\"utf-8\"></script>\n"
      ],
      "text/plain": [
       "<IPython.core.display.HTML object>"
      ]
     },
     "metadata": {},
     "output_type": "display_data"
    }
   ],
   "source": [
    "%%html\n",
    "<blockquote class=\"twitter-tweet\"><p lang=\"en\" dir=\"ltr\">It&#39;s less of a &quot;news cycle&quot; these days and more of that BSG episode where the Cylons attack every 33 minutes.</p>&mdash; Matt Ford (@fordm) <a href=\"https://twitter.com/fordm/status/831690490726719489?ref_src=twsrc%5Etfw\">February 15, 2017</a></blockquote> <script async src=\"https://platform.twitter.com/widgets.js\" charset=\"utf-8\"></script>"
   ]
  },
  {
   "cell_type": "markdown",
   "metadata": {},
   "source": [
    "Combined with the selection pressure on conflict, it means we're spending more time in adversarial, low-information contexts, without correction, and this shapes our subsequent expectations in a way that escapes virtual confinement. Without algorithmic mediation and a distribution system optimized for minimal latency, I think the cycle may be slower and their would be fewer forged coincidences to get the graph-spanning snowball rolling. But, I'm no longer convinced that the magnitude of the reduction would be particularly impressive.\n",
    "\n",
    "The second part is relational limits. Algorithmic mediation not only selects for content, but wires our social relationships, too. Content forms the basis of discovery. We follow and subscribe to those who delight or excite us in some way. If there is fast pressure towards salience in syncronized contexts, the graph we implicitly weave integrates this. At which point, again, the graph replicates most of the effects (making them hard to distangle, too). (See internet of beefs guy). But, the difference, again, maybe in the acceleration. Subscription and follower relationships don't decay in a way we can observe. The hastings limimt applies generally to subscriptions (more than Dunbars number on social media). But the probablistic argument is that someone who prospects engaging contexts will continue to do so. And the acceleration of this system selects for both larger super-nodes and ego-graphs dominated by them. So again, their is a problem with algorithmic mediation, but I'm not convinced the magnitude of reduction is impressive.\n",
    "\n",
    "Squeezing the Baloon"
   ]
  },
  {
   "cell_type": "markdown",
   "metadata": {},
   "source": [
    "## Consumption isn’t really mis-aligned either\n",
    "\n",
    "You’re immediate local social graph probably isn’t producing all the most interesting content at any moment. The outside is bigger trhan the inside.\n",
    "\n",
    "The graph is the power."
   ]
  },
  {
   "cell_type": "markdown",
   "metadata": {},
   "source": [
    "> Ours is a brand new world of allatonceness. \"Time\" has ceased. \"Space\" has vanished. We now live in a global village...a simultaneous happening. We are back in the acoustic space. We have begun again to structure the primordial feelings, the tribal emotions from which a few centuries of literacy divorced us. [...] Electric circuitry profoundly involves men with one another. Information pours upon us, instantaneously and continuously. Our electrically-configured world has forced us to move from the habit of data classification to the mode of pattern recognition. We can no longer build serially, block-by-block, step-by-step, because instant communnication insures that all factors the the environment and of experience coexist in a state of active interplay."
   ]
  },
  {
   "cell_type": "markdown",
   "metadata": {},
   "source": [
    "While the conclusions of this post — if correct — may seem pessimistic, I am not. I wrote it because I'm not sure if we're looking for solutions in the right space, and I want us to do so, because I am a true believer.  I think they are wonderful. And the benefits are remarkable. In any case, the genie isnt' going back in the bottle. I just want our wishes to be less monkey-paw like.\n",
    "\n",
    "A few weeks ago, James Linsey — a prominant troll did a bunch of trolling. But the size of that space and the ability ot rehydrate it were made absurdly clear by claire."
   ]
  },
  {
   "cell_type": "code",
   "execution_count": null,
   "metadata": {},
   "outputs": [],
   "source": []
  }
 ],
 "metadata": {
  "kernelspec": {
   "display_name": "Python 3",
   "language": "python",
   "name": "python3"
  },
  "language_info": {
   "codemirror_mode": {
    "name": "ipython",
    "version": 3
   },
   "file_extension": ".py",
   "mimetype": "text/x-python",
   "name": "python",
   "nbconvert_exporter": "python",
   "pygments_lexer": "ipython3",
   "version": "3.8.6"
  }
 },
 "nbformat": 4,
 "nbformat_minor": 4
}
